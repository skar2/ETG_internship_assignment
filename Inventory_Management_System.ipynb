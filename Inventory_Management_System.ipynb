{
  "nbformat": 4,
  "nbformat_minor": 0,
  "metadata": {
    "colab": {
      "name": "Inventory_Management_System.ipynb",
      "provenance": [],
      "collapsed_sections": []
    },
    "kernelspec": {
      "name": "python3",
      "display_name": "Python 3"
    },
    "language_info": {
      "name": "python"
    }
  },
  "cells": [
    {
      "cell_type": "code",
      "metadata": {
        "id": "yP4EDvfIakVi"
      },
      "source": [
        "inventory={1001:{\"Name\":\"Lays(Cream Onion)\",\"Price\":10,\"Instock\":50,\"Category\":\"Snacks\",\"Expiry\":\"10 Dec 2021\"},\n",
        "        1002:{\"Name\":\"Lays(Masala)\",\"Price\":10,\"Instock\":50,\"Category\":\"Snacks\",\"Expiry\":\"10 Dec 2021\"},\n",
        "        1003:{\"Name\":\"Lays(Simply Salted)\",\"Price\":10,\"Instock\":50,\"Category\":\"Snacks\",\"Expiry\":\"10 Dec 2021\"},\n",
        "        1004:{\"Name\":\"Lays(Tomato)\",\"Price\":10,\"Instock\":50,\"Category\":\"Snacks\",\"Expiry\":\"10 Dec 2021\"},\n",
        "        1005:{\"Name\":\"Lays(Maxx)\",\"Price\":10,\"Instock\":50,\"Category\":\"Snacks\",\"Expiry\":\"10 Dec 2021\"},\n",
        "        1006:{\"Name\":\"Kurkure(Masala Much)\",\"Price\":10,\"Instock\":50,\"Category\":\"Snacks\",\"Expiry\":\"10 Dec 2021\"},\n",
        "        1007:{\"Name\":\"Kurkure(Tomato)\",\"Price\":10,\"Instock\":50,\"Category\":\"Snacks\",\"Expiry\":\"10 Dec 2021\"},\n",
        "        1008:{\"Name\":\"Kurkure(Rajasthani style)\",\"Price\":10,\"Instock\":50,\"Category\":\"Snacks\",\"Expiry\":\"10 Dec 2021\"},\n",
        "        1009:{\"Name\":\"Kurkure(Hydrabadi)\",\"Price\":10,\"Instock\":50,\"Category\":\"Snacks\",\"Expiry\":\"10 Dec 2021\"},\n",
        "        1010:{\"Name\":\"Dairy Milk(Silk)\",\"Price\":100,\"Instock\":50,\"Category\":\"Chocolates\",\"Expiry\":\"10 Jan 2022\"},\n",
        "        1011:{\"Name\":\"Dairy Milk\",\"Price\":50,\"Instock\":50,\"Category\":\"Chocolates\",\"Expiry\":\"10 Jan 2022\"},\n",
        "        1012:{\"Name\":\"Kitkat\",\"Price\":30,\"Instock\":50,\"Category\":\"Chocolates\",\"Expiry\":\"15 Jan 2022\"},\n",
        "        1013:{\"Name\":\"5 Star\",\"Price\":20,\"Instock\":50,\"Category\":\"Chocolates\",\"Expiry\":\"12 Jan 2022\"},\n",
        "        1014:{\"Name\":\"Mountain Dew\",\"Price\":35,\"Instock\":30,\"Category\":\"Drinks\",\"Expiry\":\"10 Oct 2021\"},\n",
        "        1015:{\"Name\":\"Thumbs Up\",\"Price\":40,\"Instock\":30,\"Category\":\"Drinks\",\"Expiry\":\"10 Oct 2021\"},\n",
        "        1016:{\"Name\":\"Pepsi\",\"Price\":20,\"Instock\":30,\"Category\":\"Drinks\",\"Expiry\":\"20 Nov 2021\"},\n",
        "        1017:{\"Name\":\"Maza\",\"Price\":30,\"Instock\":30,\"Category\":\"Drinks\",\"Expiry\":\"23 Dec 2021\"},\n",
        "        1018:{\"Name\":\"Slice\",\"Price\":20,\"Instock\":40,\"Category\":\"Drinks\",\"Expiry\":\"30 Dec 2021\"},\n",
        "        1019:{\"Name\":\"Frozen Pizza\",\"Price\":180,\"Instock\":20,\"Category\":\"Food\",\"Expiry\":\"10 Sep 2021\"},\n",
        "        1020:{\"Name\":\"Frozen Buger\",\"Price\":120,\"Instock\":20,\"Category\":\"Food\",\"Expiry\":\"10 Sep 2021\"},\n",
        "        1021:{\"Name\":\"Frozen Fries\",\"Price\":100,\"Instock\":30,\"Category\":\"Food\",\"Expiry\":\"20 Sep 2021\"},\n",
        "        1022:{\"Name\":\"Chicken Nuggets\",\"Price\":220,\"Instock\":10,\"Category\":\"Food\",\"Expiry\":\"8 Sep 2021\"},\n",
        "        1023:{\"Name\":\"Veg Nuggets\",\"Price\":160,\"Instock\":10,\"Category\":\"Food\",\"Expiry\":\"8 Sep 2021\"},\n",
        "        1024:{\"Name\":\"Spoon\",\"Price\":110,\"Instock\":40,\"Category\":\"Household\",\"Expiry\":\"N/A\"},\n",
        "        1025:{\"Name\":\"Bowl\",\"Price\":140,\"Instock\":20,\"Category\":\"Household\",\"Expiry\":\"N/A\"},\n",
        "        1026:{\"Name\":\"Plate\",\"Price\":200,\"Instock\":30,\"Category\":\"Household\",\"Expiry\":\"N/A\"},\n",
        "        1027:{\"Name\":\"Jar\",\"Price\":420,\"Instock\":20,\"Category\":\"Household\",\"Expiry\":\"N/A\"},\n",
        "        1028:{\"Name\":\"Glass\",\"Price\":130,\"Instock\":60,\"Category\":\"Household\",\"Expiry\":\"N/A\"},\n",
        "        1029:{\"Name\":\"Butter\",\"Price\":100,\"Instock\":20,\"Category\":\"Dairy Product\",\"Expiry\":\"10 Feb 2022\"},\n",
        "        1030:{\"Name\":\"Cheese\",\"Price\":170,\"Instock\":20,\"Category\":\"Dairy Product\",\"Expiry\":\"10 Feb 2022\"},\n",
        "        }"
      ],
      "execution_count": 202,
      "outputs": []
    },
    {
      "cell_type": "code",
      "metadata": {
        "id": "rqRoAaC8yaXu"
      },
      "source": [
        "import json"
      ],
      "execution_count": 203,
      "outputs": []
    },
    {
      "cell_type": "code",
      "metadata": {
        "id": "pjY6GHonybe4"
      },
      "source": [
        "js=json.dumps(inventory)"
      ],
      "execution_count": 204,
      "outputs": []
    },
    {
      "cell_type": "code",
      "metadata": {
        "id": "LfYg16MEycBM"
      },
      "source": [
        "fd=open('Records.json','w')\n",
        "\n",
        "fd.write(js)\n",
        "\n",
        "fd.close()"
      ],
      "execution_count": 205,
      "outputs": []
    },
    {
      "cell_type": "code",
      "metadata": {
        "id": "Xqt2e3aXzhK6"
      },
      "source": [
        "fd=open('Records.json','r')\n",
        "\n",
        "txt=fd.read()\n",
        "\n",
        "fd.close()"
      ],
      "execution_count": 206,
      "outputs": []
    },
    {
      "cell_type": "code",
      "metadata": {
        "id": "t9an3iW8zhZg"
      },
      "source": [
        "inventory=json.loads(txt)\n",
        "sale=0"
      ],
      "execution_count": 207,
      "outputs": []
    },
    {
      "cell_type": "code",
      "metadata": {
        "id": "zqsUbAgyzhkr",
        "colab": {
          "base_uri": "https://localhost:8080/"
        },
        "outputId": "8319ab87-13df-4bee-e44a-97307be27d21"
      },
      "source": [
        "prod_id=input()\n",
        "prod_quant=int(input())\n",
        "\n",
        "\n",
        "for i in inventory:\n",
        "  if i==prod_id:\n",
        "    print(\"      Bill      \")\n",
        "    print(\"*****************\")\n",
        "    print(\"Product Code:\",prod_id)\n",
        "    print(\"Product Name:\",inventory[prod_id][\"Name\"])\n",
        "    print(\"Price:\",inventory[prod_id][\"Price\"])\n",
        "    print(\"Quantity:\",prod_quant)\n",
        "    print(\"*****************\")\n",
        "    print(\"Billing Amount:\",inventory[prod_id][\"Price\"]*prod_quant)\n",
        "    \n"
      ],
      "execution_count": 213,
      "outputs": [
        {
          "output_type": "stream",
          "name": "stdout",
          "text": [
            "1022\n",
            "10\n",
            "      Bill      \n",
            "*****************\n",
            "Product Code: 1022\n",
            "Product Name: Chicken Nuggets\n",
            "Price: 220\n",
            "Quantity: 10\n",
            "*****************\n",
            "Billing Amount: 2200\n"
          ]
        }
      ]
    },
    {
      "cell_type": "code",
      "metadata": {
        "id": "sCQ0czLjYo7g"
      },
      "source": [
        "updated_inventory={}\n",
        "\n",
        "updated_inventory=inventory\n",
        "updated_inventory[prod_id][\"Instock\"]=updated_inventory[prod_id][\"Instock\"]-prod_quant\n",
        "\n",
        "#Sales Report\n",
        "sale+=inventory[prod_id][\"Price\"]*prod_quant\n",
        "sales=\"Total Sales:\"+str(sale)+\"Rs.\"\n",
        "\n",
        "\n"
      ],
      "execution_count": 233,
      "outputs": []
    },
    {
      "cell_type": "code",
      "metadata": {
        "id": "_ZLTIGUnEQFE"
      },
      "source": [
        "js=json.dumps(updated_inventory)"
      ],
      "execution_count": 234,
      "outputs": []
    },
    {
      "cell_type": "code",
      "metadata": {
        "id": "JwgtzHRMEQNR"
      },
      "source": [
        "fd=open('Records.json','w')\n",
        "\n",
        "fd.write(js)\n",
        "\n",
        "fd.close()"
      ],
      "execution_count": 235,
      "outputs": []
    },
    {
      "cell_type": "code",
      "metadata": {
        "id": "u3XHxSSRE5gt"
      },
      "source": [
        ""
      ],
      "execution_count": 167,
      "outputs": []
    },
    {
      "cell_type": "code",
      "metadata": {
        "id": "LdWBMGe_E56U"
      },
      "source": [
        "fd=open(\"Sales.json\",'w')\n",
        "\n",
        "fd.write(sales)\n",
        "\n",
        "fd.close()"
      ],
      "execution_count": 236,
      "outputs": []
    },
    {
      "cell_type": "code",
      "metadata": {
        "id": "ZT_YddSME6RL"
      },
      "source": [
        ""
      ],
      "execution_count": null,
      "outputs": []
    }
  ]
}